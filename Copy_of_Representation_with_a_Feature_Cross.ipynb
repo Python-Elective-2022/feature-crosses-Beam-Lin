{
  "nbformat": 4,
  "nbformat_minor": 0,
  "metadata": {
    "colab": {
      "provenance": [],
      "collapsed_sections": []
    },
    "kernelspec": {
      "name": "python3",
      "display_name": "Python 3"
    },
    "gpuClass": "standard"
  },
  "cells": [
    {
      "cell_type": "code",
      "metadata": {
        "id": "wDlWLbfkJtvu"
      },
      "source": [
        "#@title Copyright 2020 Google LLC. Double-click for license information.\n",
        "# Licensed under the Apache License, Version 2.0 (the \"License\");\n",
        "# you may not use this file except in compliance with the License.\n",
        "# You may obtain a copy of the License at\n",
        "#\n",
        "# https://www.apache.org/licenses/LICENSE-2.0\n",
        "#\n",
        "# Unless required by applicable law or agreed to in writing, software\n",
        "# distributed under the License is distributed on an \"AS IS\" BASIS,\n",
        "# WITHOUT WARRANTIES OR CONDITIONS OF ANY KIND, either express or implied.\n",
        "# See the License for the specific language governing permissions and\n",
        "# limitations under the License."
      ],
      "execution_count": 1,
      "outputs": []
    },
    {
      "cell_type": "markdown",
      "metadata": {
        "id": "T4r2z30vJSbA"
      },
      "source": [
        "# Colabs\n",
        "\n",
        "Machine Learning Crash Course uses Colaboratories (Colabs) for all programming exercises. Colab is Google's implementation of [Jupyter Notebook](https://jupyter.org/). For more information about Colabs and how to use them, go to [Welcome to Colaboratory](https://research.google.com/colaboratory)."
      ]
    },
    {
      "cell_type": "markdown",
      "metadata": {
        "id": "TL5y5fY9Jy_x"
      },
      "source": [
        "# Representation with a Feature Cross\n",
        "\n",
        "In this exercise, you'll experiment with different ways to represent features."
      ]
    },
    {
      "cell_type": "markdown",
      "metadata": {
        "id": "RXWoPIezkzgI"
      },
      "source": [
        "## Learning Objectives:\n",
        "\n",
        "After doing this Colab, you'll know how to:\n",
        "\n",
        "  * Use [`tf.feature_column`](https://www.tensorflow.org/api_docs/python/tf/feature_column) methods to represent features in different ways.\n",
        "  * Represent features as [bins](https://developers.google.com/machine-learning/glossary/#bucketing). \n",
        "  * Cross bins to create a [feature cross](https://developers.google.com/machine-learning/glossary/#feature_cross). "
      ]
    },
    {
      "cell_type": "markdown",
      "metadata": {
        "id": "lH_g3Hsfkzzb"
      },
      "source": [
        "## The Dataset\n",
        "  \n",
        "Like several of the previous Colabs, this exercise uses the [California Housing Dataset](https://developers.google.com/machine-learning/crash-course/california-housing-data-description)."
      ]
    },
    {
      "cell_type": "markdown",
      "metadata": {
        "id": "5iuw6-JOGf7I"
      },
      "source": [
        "## Call the import statements\n",
        "\n",
        "The following code imports the necessary code to run the code in the rest of this Colaboratory."
      ]
    },
    {
      "cell_type": "code",
      "metadata": {
        "id": "9n9_cTveKmse",
        "cellView": "form",
        "colab": {
          "base_uri": "https://localhost:8080/"
        },
        "outputId": "a7501b8b-e79c-4345-b854-0ddd11bcf89a"
      },
      "source": [
        "#@title Load the imports\n",
        "\n",
        "import numpy as np\n",
        "import pandas as pd\n",
        "import tensorflow as tf\n",
        "from tensorflow import feature_column\n",
        "from tensorflow.keras import layers\n",
        "\n",
        "from matplotlib import pyplot as plt\n",
        "\n",
        "# The following lines adjust the granularity of reporting.\n",
        "pd.options.display.max_rows = 10\n",
        "pd.options.display.float_format = \"{:.1f}\".format\n",
        "\n",
        "tf.keras.backend.set_floatx('float32')\n",
        "\n",
        "print(\"Imported the modules.\")"
      ],
      "execution_count": 2,
      "outputs": [
        {
          "output_type": "stream",
          "name": "stdout",
          "text": [
            "Imported the modules.\n"
          ]
        }
      ]
    },
    {
      "cell_type": "markdown",
      "metadata": {
        "id": "X_TaJhU4KcuY"
      },
      "source": [
        "## Load, scale, and shuffle the examples\n",
        "\n",
        "The following code cell loads the separate .csv files and creates the following two pandas DataFrames:\n",
        "\n",
        "* `train_df`, which contains the training set\n",
        "* `test_df`, which contains the test set\n",
        "\n",
        "The code cell then scales the `median_house_value` to a more human-friendly range and then shuffles the examples."
      ]
    },
    {
      "cell_type": "code",
      "metadata": {
        "id": "JZlvdpyYKx7V"
      },
      "source": [
        "# Load the dataset\n",
        "train_df = pd.read_csv(\"https://download.mlcc.google.com/mledu-datasets/california_housing_train.csv\")\n",
        "test_df = pd.read_csv(\"https://download.mlcc.google.com/mledu-datasets/california_housing_test.csv\")\n",
        "\n",
        "# Scale the labels\n",
        "scale_factor = 1000.0\n",
        "# Scale the training set's label.\n",
        "train_df[\"median_house_value\"] /= scale_factor \n",
        "\n",
        "# Scale the test set's label\n",
        "test_df[\"median_house_value\"] /= scale_factor\n",
        "\n",
        "# Shuffle the examples\n",
        "train_df = train_df.reindex(np.random.permutation(train_df.index))"
      ],
      "execution_count": 3,
      "outputs": []
    },
    {
      "cell_type": "markdown",
      "metadata": {
        "id": "8kir8UTUXSV8"
      },
      "source": [
        "## Represent latitude and longitude as floating-point values\n",
        "\n",
        "Previous Colabs trained on only a single feature or a single synthetic feature. By contrast, this exercise trains on two features. Furthermore, this Colab introduces **feature columns**, which provide a sophisticated way to represent features.  \n",
        "\n",
        "You create feature columns as follows:\n",
        "\n",
        "  * Call a [`tf.feature_column`](https://www.tensorflow.org/api_docs/python/tf/feature_column) method to represent a single feature, single feature cross, or single synthetic feature in the desired way.  For example, to represent a certain feature as floating-point values, call [`tf.feature_column.numeric_column`](https://www.tensorflow.org/api_docs/python/tf/feature_column/numeric_column). To represent a certain feature as a series of buckets or bins, call [`tf.feature_column.bucketized_column`](https://www.tensorflow.org/api_docs/python/tf/feature_column/bucketized_column).\n",
        "  * Assemble the created representations into a Python list. \n",
        "\n",
        "A neighborhood's location is typically the most important feature in determining a house's value. The California Housing dataset provides two features, `latitude` and `longitude` that identify each neighborhood's location. \n",
        "\n",
        "The following code cell calls [`tf.feature_column.numeric_column`](https://www.tensorflow.org/api_docs/python/tf/feature_column/numeric_column) twice, first to represent `latitude` as floating-point value and a second time to represent `longitude` as floating-point values. \n",
        "\n",
        "This code cell specifies the features that you'll ultimately train the model on and how each of those features will be represented. The transformations (collected in `fp_feature_layer`) don't actually get applied until you pass a DataFrame to it, which will happen when we train the model. \n"
      ]
    },
    {
      "cell_type": "code",
      "metadata": {
        "id": "3tmmZIDw4JEC",
        "colab": {
          "base_uri": "https://localhost:8080/"
        },
        "outputId": "06caa5da-b52b-4ca5-a2f0-9134543f1077"
      },
      "source": [
        "# Create an empty list that will eventually hold all feature columns.\n",
        "feature_columns = []\n",
        "\n",
        "# Create a numerical feature column to represent latitude.\n",
        "latitude = tf.feature_column.numeric_column(\"latitude\")\n",
        "feature_columns.append(latitude)\n",
        "print(feature_columns)\n",
        "# Create a numerical feature column to represent longitude.\n",
        "longitude = tf.feature_column.numeric_column(\"longitude\")\n",
        "feature_columns.append(longitude)\n",
        "print(feature_columns)\n",
        "# Convert the list of feature columns into a layer that will ultimately become\n",
        "# part of the model. Understanding layers is not important right now.\n",
        "fp_feature_layer = layers.DenseFeatures(feature_columns)\n"
      ],
      "execution_count": 10,
      "outputs": [
        {
          "output_type": "stream",
          "name": "stdout",
          "text": [
            "[NumericColumn(key='latitude', shape=(1,), default_value=None, dtype=tf.float32, normalizer_fn=None)]\n",
            "[NumericColumn(key='latitude', shape=(1,), default_value=None, dtype=tf.float32, normalizer_fn=None), NumericColumn(key='longitude', shape=(1,), default_value=None, dtype=tf.float32, normalizer_fn=None)]\n"
          ]
        }
      ]
    },
    {
      "cell_type": "markdown",
      "metadata": {
        "id": "Q2x8sHKnAy3Q"
      },
      "source": [
        "When used, the layer processes the raw inputs, according to the transformations described by the feature columns, and packs the result into a numeric array.  (The model will train on this numeric array.) "
      ]
    },
    {
      "cell_type": "markdown",
      "metadata": {
        "id": "3014ezH3C7jT"
      },
      "source": [
        "## Define functions that create and train a model, and a plotting function\n",
        "\n",
        "The following code defines three functions:\n",
        "\n",
        "  * `create_model`, which tells TensorFlow to build a linear regression model and to use the `feature_layer_as_fp` as the representation of the model's features.\n",
        "  * `train_model`, which will ultimately train the model from training set examples.\n",
        "  * `plot_the_loss_curve`, which generates a loss curve."
      ]
    },
    {
      "cell_type": "code",
      "metadata": {
        "id": "pedD5GhlDC-y",
        "colab": {
          "base_uri": "https://localhost:8080/"
        },
        "outputId": "29aaf2c2-7b3d-4789-85db-99393b6c8905"
      },
      "source": [
        "#@title Define functions to create and train a model, and a plotting function\n",
        "def create_model(my_learning_rate, feature_layer):\n",
        "  \"\"\"Create and compile a simple linear regression model.\"\"\"\n",
        "  # Most simple tf.keras models are sequential.\n",
        "  model = tf.keras.models.Sequential()\n",
        "\n",
        "  # Add the layer containing the feature columns to the model.\n",
        "  model.add(feature_layer)\n",
        "\n",
        "  # Add one linear layer to the model to yield a simple linear regressor.\n",
        "  model.add(tf.keras.layers.Dense(units=1, input_shape=(1,)))\n",
        "\n",
        "  # Construct the layers into a model that TensorFlow can execute.\n",
        "  model.compile(optimizer=tf.keras.optimizers.RMSprop(lr=my_learning_rate),\n",
        "                loss=\"mean_squared_error\",\n",
        "                metrics=[tf.keras.metrics.RootMeanSquaredError()])\n",
        "\n",
        "  return model           \n",
        "\n",
        "\n",
        "def train_model(model, dataset, epochs, batch_size, label_name):\n",
        "  \"\"\"Feed a dataset into the model in order to train it.\"\"\"\n",
        "\n",
        "  features = {name:np.array(value) for name, value in dataset.items()}\n",
        "  label = np.array(features.pop(label_name))\n",
        "  history = model.fit(x=features, y=label, batch_size=batch_size,\n",
        "                      epochs=epochs, shuffle=True)\n",
        "\n",
        "  # The list of epochs is stored separately from the rest of history.\n",
        "  epochs = history.epoch\n",
        "  \n",
        "  # Isolate the mean absolute error for each epoch.\n",
        "  hist = pd.DataFrame(history.history)\n",
        "  rmse = hist[\"root_mean_squared_error\"]\n",
        "\n",
        "  return epochs, rmse   \n",
        "\n",
        "\n",
        "def plot_the_loss_curve(epochs, rmse):\n",
        "  \"\"\"Plot a curve of loss vs. epoch.\"\"\"\n",
        "\n",
        "  plt.figure()\n",
        "  plt.xlabel(\"Epoch\")\n",
        "  plt.ylabel(\"Root Mean Squared Error\")\n",
        "\n",
        "  plt.plot(epochs, rmse, label=\"Loss\")\n",
        "  plt.legend()\n",
        "  plt.ylim([rmse.min()*0.94, rmse.max()* 1.05])\n",
        "  plt.show()  \n",
        "\n",
        "print(\"Defined the create_model, train_model, and plot_the_loss_curve functions.\")"
      ],
      "execution_count": 11,
      "outputs": [
        {
          "output_type": "stream",
          "name": "stdout",
          "text": [
            "Defined the create_model, train_model, and plot_the_loss_curve functions.\n"
          ]
        }
      ]
    },
    {
      "cell_type": "markdown",
      "metadata": {
        "id": "D-IXYVfvM4gD"
      },
      "source": [
        "## Train the model with floating-point representations\n",
        "\n",
        "The following code cell calls the functions you just created to train, plot, and evaluate a model."
      ]
    },
    {
      "cell_type": "code",
      "metadata": {
        "id": "nj3v5EKQFY8s",
        "cellView": "both",
        "colab": {
          "base_uri": "https://localhost:8080/",
          "height": 1000
        },
        "outputId": "992b17b7-168c-4924-ac71-72388ff0d9e4"
      },
      "source": [
        "# The following variables are the hyperparameters.\n",
        "learning_rate = 0.05\n",
        "epochs = 30\n",
        "batch_size = 100\n",
        "label_name = 'median_house_value'\n",
        "\n",
        "# Create and compile the model's topography.\n",
        "my_model = create_model(learning_rate, fp_feature_layer)\n",
        "\n",
        "# Train the model on the training set.\n",
        "epochs, rmse = train_model(my_model, train_df, epochs, batch_size, label_name)\n",
        "\n",
        "plot_the_loss_curve(epochs, rmse)\n",
        "\n",
        "print(\"\\n: Evaluate the new model against the test set:\")\n",
        "test_features = {name:np.array(value) for name, value in test_df.items()}\n",
        "test_label = np.array(test_features.pop(label_name))\n",
        "my_model.evaluate(x=test_features, y=test_label, batch_size=batch_size)"
      ],
      "execution_count": 12,
      "outputs": [
        {
          "output_type": "stream",
          "name": "stderr",
          "text": [
            "/usr/local/lib/python3.7/dist-packages/keras/optimizers/optimizer_v2/rmsprop.py:135: UserWarning: The `lr` argument is deprecated, use `learning_rate` instead.\n",
            "  super(RMSprop, self).__init__(name, **kwargs)\n"
          ]
        },
        {
          "output_type": "stream",
          "name": "stdout",
          "text": [
            "Epoch 1/30\n"
          ]
        },
        {
          "output_type": "stream",
          "name": "stderr",
          "text": [
            "WARNING:tensorflow:Layers in a Sequential model should only have a single input tensor. Received: inputs={'longitude': <tf.Tensor 'IteratorGetNext:3' shape=(100,) dtype=float32>, 'latitude': <tf.Tensor 'IteratorGetNext:2' shape=(100,) dtype=float32>, 'housing_median_age': <tf.Tensor 'IteratorGetNext:1' shape=(100,) dtype=float32>, 'total_rooms': <tf.Tensor 'IteratorGetNext:7' shape=(100,) dtype=float32>, 'total_bedrooms': <tf.Tensor 'IteratorGetNext:6' shape=(100,) dtype=float32>, 'population': <tf.Tensor 'IteratorGetNext:5' shape=(100,) dtype=float32>, 'households': <tf.Tensor 'IteratorGetNext:0' shape=(100,) dtype=float32>, 'median_income': <tf.Tensor 'IteratorGetNext:4' shape=(100,) dtype=float32>}. Consider rewriting this model with the Functional API.\n",
            "WARNING:tensorflow:Layers in a Sequential model should only have a single input tensor. Received: inputs={'longitude': <tf.Tensor 'IteratorGetNext:3' shape=(100,) dtype=float32>, 'latitude': <tf.Tensor 'IteratorGetNext:2' shape=(100,) dtype=float32>, 'housing_median_age': <tf.Tensor 'IteratorGetNext:1' shape=(100,) dtype=float32>, 'total_rooms': <tf.Tensor 'IteratorGetNext:7' shape=(100,) dtype=float32>, 'total_bedrooms': <tf.Tensor 'IteratorGetNext:6' shape=(100,) dtype=float32>, 'population': <tf.Tensor 'IteratorGetNext:5' shape=(100,) dtype=float32>, 'households': <tf.Tensor 'IteratorGetNext:0' shape=(100,) dtype=float32>, 'median_income': <tf.Tensor 'IteratorGetNext:4' shape=(100,) dtype=float32>}. Consider rewriting this model with the Functional API.\n"
          ]
        },
        {
          "output_type": "stream",
          "name": "stdout",
          "text": [
            "170/170 [==============================] - 1s 2ms/step - loss: 16620.8281 - root_mean_squared_error: 128.9218\n",
            "Epoch 2/30\n",
            "170/170 [==============================] - 0s 2ms/step - loss: 13511.6963 - root_mean_squared_error: 116.2398\n",
            "Epoch 3/30\n",
            "170/170 [==============================] - 0s 2ms/step - loss: 13454.3730 - root_mean_squared_error: 115.9930\n",
            "Epoch 4/30\n",
            "170/170 [==============================] - 0s 2ms/step - loss: 13423.8262 - root_mean_squared_error: 115.8612\n",
            "Epoch 5/30\n",
            "170/170 [==============================] - 0s 2ms/step - loss: 13369.9395 - root_mean_squared_error: 115.6285\n",
            "Epoch 6/30\n",
            "170/170 [==============================] - 0s 2ms/step - loss: 13329.7275 - root_mean_squared_error: 115.4544\n",
            "Epoch 7/30\n",
            "170/170 [==============================] - 0s 2ms/step - loss: 13282.7480 - root_mean_squared_error: 115.2508\n",
            "Epoch 8/30\n",
            "170/170 [==============================] - 0s 2ms/step - loss: 13248.2568 - root_mean_squared_error: 115.1011\n",
            "Epoch 9/30\n",
            "170/170 [==============================] - 0s 2ms/step - loss: 13223.3701 - root_mean_squared_error: 114.9929\n",
            "Epoch 10/30\n",
            "170/170 [==============================] - 0s 2ms/step - loss: 13198.3506 - root_mean_squared_error: 114.8841\n",
            "Epoch 11/30\n",
            "170/170 [==============================] - 0s 2ms/step - loss: 13157.6445 - root_mean_squared_error: 114.7068\n",
            "Epoch 12/30\n",
            "170/170 [==============================] - 0s 2ms/step - loss: 13119.8096 - root_mean_squared_error: 114.5417\n",
            "Epoch 13/30\n",
            "170/170 [==============================] - 0s 2ms/step - loss: 13098.5273 - root_mean_squared_error: 114.4488\n",
            "Epoch 14/30\n",
            "170/170 [==============================] - 0s 2ms/step - loss: 13088.9795 - root_mean_squared_error: 114.4071\n",
            "Epoch 15/30\n",
            "170/170 [==============================] - 0s 2ms/step - loss: 13052.4277 - root_mean_squared_error: 114.2472\n",
            "Epoch 16/30\n",
            "170/170 [==============================] - 0s 2ms/step - loss: 13016.5479 - root_mean_squared_error: 114.0901\n",
            "Epoch 17/30\n",
            "170/170 [==============================] - 0s 2ms/step - loss: 13009.1484 - root_mean_squared_error: 114.0577\n",
            "Epoch 18/30\n",
            "170/170 [==============================] - 0s 2ms/step - loss: 12985.4814 - root_mean_squared_error: 113.9539\n",
            "Epoch 19/30\n",
            "170/170 [==============================] - 0s 2ms/step - loss: 12974.5596 - root_mean_squared_error: 113.9059\n",
            "Epoch 20/30\n",
            "170/170 [==============================] - 0s 2ms/step - loss: 12964.3457 - root_mean_squared_error: 113.8611\n",
            "Epoch 21/30\n",
            "170/170 [==============================] - 0s 2ms/step - loss: 12946.8594 - root_mean_squared_error: 113.7843\n",
            "Epoch 22/30\n",
            "170/170 [==============================] - 0s 2ms/step - loss: 12926.9854 - root_mean_squared_error: 113.6969\n",
            "Epoch 23/30\n",
            "170/170 [==============================] - 0s 2ms/step - loss: 12923.1777 - root_mean_squared_error: 113.6802\n",
            "Epoch 24/30\n",
            "170/170 [==============================] - 1s 7ms/step - loss: 12879.9082 - root_mean_squared_error: 113.4897\n",
            "Epoch 25/30\n",
            "170/170 [==============================] - 1s 7ms/step - loss: 12882.7344 - root_mean_squared_error: 113.5021\n",
            "Epoch 26/30\n",
            "170/170 [==============================] - 1s 7ms/step - loss: 12878.1611 - root_mean_squared_error: 113.4820\n",
            "Epoch 27/30\n",
            "170/170 [==============================] - 1s 8ms/step - loss: 12856.8584 - root_mean_squared_error: 113.3881\n",
            "Epoch 28/30\n",
            "170/170 [==============================] - 2s 11ms/step - loss: 12859.1406 - root_mean_squared_error: 113.3981\n",
            "Epoch 29/30\n",
            "170/170 [==============================] - 1s 4ms/step - loss: 12855.0176 - root_mean_squared_error: 113.3800\n",
            "Epoch 30/30\n",
            "170/170 [==============================] - 1s 3ms/step - loss: 12851.7803 - root_mean_squared_error: 113.3657\n"
          ]
        },
        {
          "output_type": "display_data",
          "data": {
            "text/plain": [
              "<Figure size 432x288 with 1 Axes>"
            ],
            "image/png": "[encoded data removed]"
          },
          "metadata": {
            "needs_background": "light"
          }
        },
        {
          "output_type": "stream",
          "name": "stdout",
          "text": [
            "\n",
            ": Evaluate the new model against the test set:\n"
          ]
        },
        {
          "output_type": "stream",
          "name": "stderr",
          "text": [
            "WARNING:tensorflow:Layers in a Sequential model should only have a single input tensor. Received: inputs={'longitude': <tf.Tensor 'IteratorGetNext:3' shape=(100,) dtype=float32>, 'latitude': <tf.Tensor 'IteratorGetNext:2' shape=(100,) dtype=float32>, 'housing_median_age': <tf.Tensor 'IteratorGetNext:1' shape=(100,) dtype=float32>, 'total_rooms': <tf.Tensor 'IteratorGetNext:7' shape=(100,) dtype=float32>, 'total_bedrooms': <tf.Tensor 'IteratorGetNext:6' shape=(100,) dtype=float32>, 'population': <tf.Tensor 'IteratorGetNext:5' shape=(100,) dtype=float32>, 'households': <tf.Tensor 'IteratorGetNext:0' shape=(100,) dtype=float32>, 'median_income': <tf.Tensor 'IteratorGetNext:4' shape=(100,) dtype=float32>}. Consider rewriting this model with the Functional API.\n"
          ]
        },
        {
          "output_type": "stream",
          "name": "stdout",
          "text": [
            "30/30 [==============================] - 0s 2ms/step - loss: 12176.2891 - root_mean_squared_error: 110.3462\n"
          ]
        },
        {
          "output_type": "execute_result",
          "data": {
            "text/plain": [
              "[12176.2890625, 110.34622192382812]"
            ]
          },
          "metadata": {},
          "execution_count": 12
        }
      ]
    },
    {
      "cell_type": "markdown",
      "metadata": {
        "id": "dbyWNS6T2fIT"
      },
      "source": [
        "## Task 1: Why aren't floating-point values a good way to represent latitude and longitude?\n",
        "\n",
        "Are floating-point values a good way to represent `latitude` and `longitude`? "
      ]
    },
    {
      "cell_type": "markdown",
      "source": [
        "'latitude' and 'longitude' almost provides no prediction."
      ],
      "metadata": {
        "id": "BmuFRO-v0c3I"
      }
    },
    {
      "cell_type": "code",
      "metadata": {
        "id": "VJLDCu5M2hXX"
      },
      "source": [
        "#@title Double-click to view an answer to Task 1.\n",
        "\n",
        "# No. Representing latitude and longitude as \n",
        "# floating-point values does not have much \n",
        "# predictive power. For example, neighborhoods at \n",
        "# latitude 35 are not 36/35 more valuable \n",
        "# (or 35/36 less valuable) than houses at \n",
        "# latitude 36.\n",
        "\n",
        "# Representing `latitude` and `longitude` as \n",
        "# floating-point values provides almost no \n",
        "# predictive power. We're only using the raw values \n",
        "# to establish a baseline for future experiments \n",
        "# with better representations."
      ],
      "execution_count": 13,
      "outputs": []
    },
    {
      "cell_type": "markdown",
      "metadata": {
        "id": "Na8TPoPYx-0k"
      },
      "source": [
        "## Represent latitude and longitude in buckets\n",
        "\n",
        "The following code cell represents latitude and longitude in buckets (bins). Each bin represents all the neighborhoods within a single degree. For example,\n",
        "neighborhoods at latitude 35.4 and 35.8 are in the same bucket, but neighborhoods in latitude 35.4 and 36.2 are in different buckets. \n",
        "\n",
        "The model will learn a separate weight for each bucket. For example, the model will learn one weight for all the neighborhoods in the \"35\" bin, a different weight for neighborhoods in the \"36\" bin, and so on. This representation will create approximately 20 buckets:\n",
        " \n",
        "  * 10 buckets for `latitude`. \n",
        "  * 10 buckets for `longitude`. "
      ]
    },
    {
      "cell_type": "code",
      "metadata": {
        "id": "WLTUFiaUyIpx"
      },
      "source": [
        "resolution_in_degrees = 1.0 \n",
        "\n",
        "# Create a new empty list that will eventually hold the generated feature column.\n",
        "feature_columns = []\n",
        "\n",
        "# Create a bucket feature column for latitude.\n",
        "latitude_as_a_numeric_column = tf.feature_column.numeric_column(\"latitude\")\n",
        "latitude_boundaries = list(np.arange(int(min(train_df['latitude'])), \n",
        "                                     int(max(train_df['latitude'])), \n",
        "                                     resolution_in_degrees))\n",
        "latitude = tf.feature_column.bucketized_column(latitude_as_a_numeric_column, \n",
        "                                               latitude_boundaries)\n",
        "feature_columns.append(latitude)\n",
        "\n",
        "# Create a bucket feature column for longitude.\n",
        "longitude_as_a_numeric_column = tf.feature_column.numeric_column(\"longitude\")\n",
        "longitude_boundaries = list(np.arange(int(min(train_df['longitude'])), \n",
        "                                      int(max(train_df['longitude'])), \n",
        "                                      resolution_in_degrees))\n",
        "longitude = tf.feature_column.bucketized_column(longitude_as_a_numeric_column, \n",
        "                                                longitude_boundaries)\n",
        "feature_columns.append(longitude)\n",
        "\n",
        "# Convert the list of feature columns into a layer that will ultimately become\n",
        "# part of the model. Understanding layers is not important right now.\n",
        "buckets_feature_layer = layers.DenseFeatures(feature_columns)"
      ],
      "execution_count": 14,
      "outputs": []
    },
    {
      "cell_type": "markdown",
      "metadata": {
        "id": "aZsFzoPQ4pFm"
      },
      "source": [
        "## Train the model with bucket representations\n",
        "\n",
        "Run the following code cell to train the model with bucket representations rather than floating-point representations:"
      ]
    },
    {
      "cell_type": "code",
      "metadata": {
        "id": "UnDrghxBzLvD",
        "colab": {
          "base_uri": "https://localhost:8080/",
          "height": 1000
        },
        "outputId": "c4491b90-6a63-4dd9-e206-81797e4c0709"
      },
      "source": [
        "# The following variables are the hyperparameters.\n",
        "learning_rate = 0.04\n",
        "epochs = 35\n",
        "\n",
        "# Build the model, this time passing in the buckets_feature_layer.\n",
        "my_model = create_model(learning_rate, buckets_feature_layer)\n",
        "\n",
        "# Train the model on the training set.\n",
        "epochs, rmse = train_model(my_model, train_df, epochs, batch_size, label_name)\n",
        "\n",
        "plot_the_loss_curve(epochs, rmse)\n",
        "\n",
        "print(\"\\n: Evaluate the new model against the test set:\")\n",
        "my_model.evaluate(x=test_features, y=test_label, batch_size=batch_size)"
      ],
      "execution_count": 15,
      "outputs": [
        {
          "output_type": "stream",
          "name": "stdout",
          "text": [
            "Epoch 1/35\n"
          ]
        },
        {
          "output_type": "stream",
          "name": "stderr",
          "text": [
            "/usr/local/lib/python3.7/dist-packages/keras/optimizers/optimizer_v2/rmsprop.py:135: UserWarning: The `lr` argument is deprecated, use `learning_rate` instead.\n",
            "  super(RMSprop, self).__init__(name, **kwargs)\n",
            "WARNING:tensorflow:Layers in a Sequential model should only have a single input tensor. Received: inputs={'longitude': <tf.Tensor 'IteratorGetNext:3' shape=(100,) dtype=float32>, 'latitude': <tf.Tensor 'IteratorGetNext:2' shape=(100,) dtype=float32>, 'housing_median_age': <tf.Tensor 'IteratorGetNext:1' shape=(100,) dtype=float32>, 'total_rooms': <tf.Tensor 'IteratorGetNext:7' shape=(100,) dtype=float32>, 'total_bedrooms': <tf.Tensor 'IteratorGetNext:6' shape=(100,) dtype=float32>, 'population': <tf.Tensor 'IteratorGetNext:5' shape=(100,) dtype=float32>, 'households': <tf.Tensor 'IteratorGetNext:0' shape=(100,) dtype=float32>, 'median_income': <tf.Tensor 'IteratorGetNext:4' shape=(100,) dtype=float32>}. Consider rewriting this model with the Functional API.\n",
            "WARNING:tensorflow:Layers in a Sequential model should only have a single input tensor. Received: inputs={'longitude': <tf.Tensor 'IteratorGetNext:3' shape=(100,) dtype=float32>, 'latitude': <tf.Tensor 'IteratorGetNext:2' shape=(100,) dtype=float32>, 'housing_median_age': <tf.Tensor 'IteratorGetNext:1' shape=(100,) dtype=float32>, 'total_rooms': <tf.Tensor 'IteratorGetNext:7' shape=(100,) dtype=float32>, 'total_bedrooms': <tf.Tensor 'IteratorGetNext:6' shape=(100,) dtype=float32>, 'population': <tf.Tensor 'IteratorGetNext:5' shape=(100,) dtype=float32>, 'households': <tf.Tensor 'IteratorGetNext:0' shape=(100,) dtype=float32>, 'median_income': <tf.Tensor 'IteratorGetNext:4' shape=(100,) dtype=float32>}. Consider rewriting this model with the Functional API.\n"
          ]
        },
        {
          "output_type": "stream",
          "name": "stdout",
          "text": [
            "170/170 [==============================] - 1s 2ms/step - loss: 52032.7227 - root_mean_squared_error: 228.1068\n",
            "Epoch 2/35\n",
            "170/170 [==============================] - 0s 2ms/step - loss: 44644.7227 - root_mean_squared_error: 211.2930\n",
            "Epoch 3/35\n",
            "170/170 [==============================] - 0s 2ms/step - loss: 38058.2500 - root_mean_squared_error: 195.0852\n",
            "Epoch 4/35\n",
            "170/170 [==============================] - 0s 2ms/step - loss: 32239.8867 - root_mean_squared_error: 179.5547\n",
            "Epoch 5/35\n",
            "170/170 [==============================] - 0s 2ms/step - loss: 27231.1152 - root_mean_squared_error: 165.0185\n",
            "Epoch 6/35\n",
            "170/170 [==============================] - 0s 2ms/step - loss: 22994.1387 - root_mean_squared_error: 151.6382\n",
            "Epoch 7/35\n",
            "170/170 [==============================] - 0s 2ms/step - loss: 19466.7188 - root_mean_squared_error: 139.5232\n",
            "Epoch 8/35\n",
            "170/170 [==============================] - 0s 2ms/step - loss: 16673.7246 - root_mean_squared_error: 129.1268\n",
            "Epoch 9/35\n",
            "170/170 [==============================] - 0s 2ms/step - loss: 14532.2100 - root_mean_squared_error: 120.5496\n",
            "Epoch 10/35\n",
            "170/170 [==============================] - 0s 2ms/step - loss: 12986.9043 - root_mean_squared_error: 113.9601\n",
            "Epoch 11/35\n",
            "170/170 [==============================] - 0s 2ms/step - loss: 11951.9775 - root_mean_squared_error: 109.3251\n",
            "Epoch 12/35\n",
            "170/170 [==============================] - 0s 2ms/step - loss: 11335.1289 - root_mean_squared_error: 106.4666\n",
            "Epoch 13/35\n",
            "170/170 [==============================] - 0s 2ms/step - loss: 10991.9004 - root_mean_squared_error: 104.8423\n",
            "Epoch 14/35\n",
            "170/170 [==============================] - 0s 2ms/step - loss: 10801.2627 - root_mean_squared_error: 103.9291\n",
            "Epoch 15/35\n",
            "170/170 [==============================] - 0s 2ms/step - loss: 10676.2705 - root_mean_squared_error: 103.3260\n",
            "Epoch 16/35\n",
            "170/170 [==============================] - 0s 2ms/step - loss: 10601.6436 - root_mean_squared_error: 102.9643\n",
            "Epoch 17/35\n",
            "170/170 [==============================] - 0s 2ms/step - loss: 10553.4014 - root_mean_squared_error: 102.7298\n",
            "Epoch 18/35\n",
            "170/170 [==============================] - 0s 2ms/step - loss: 10519.4561 - root_mean_squared_error: 102.5644\n",
            "Epoch 19/35\n",
            "170/170 [==============================] - 0s 2ms/step - loss: 10496.1094 - root_mean_squared_error: 102.4505\n",
            "Epoch 20/35\n",
            "170/170 [==============================] - 0s 2ms/step - loss: 10477.8125 - root_mean_squared_error: 102.3612\n",
            "Epoch 21/35\n",
            "170/170 [==============================] - 0s 2ms/step - loss: 10463.2344 - root_mean_squared_error: 102.2900\n",
            "Epoch 22/35\n",
            "170/170 [==============================] - 0s 2ms/step - loss: 10450.3916 - root_mean_squared_error: 102.2272\n",
            "Epoch 23/35\n",
            "170/170 [==============================] - 0s 2ms/step - loss: 10439.2529 - root_mean_squared_error: 102.1727\n",
            "Epoch 24/35\n",
            "170/170 [==============================] - 0s 2ms/step - loss: 10429.0771 - root_mean_squared_error: 102.1229\n",
            "Epoch 25/35\n",
            "170/170 [==============================] - 0s 2ms/step - loss: 10419.4033 - root_mean_squared_error: 102.0755\n",
            "Epoch 26/35\n",
            "170/170 [==============================] - 0s 2ms/step - loss: 10410.1543 - root_mean_squared_error: 102.0302\n",
            "Epoch 27/35\n",
            "170/170 [==============================] - 0s 2ms/step - loss: 10401.4990 - root_mean_squared_error: 101.9877\n",
            "Epoch 28/35\n",
            "170/170 [==============================] - 0s 3ms/step - loss: 10392.9795 - root_mean_squared_error: 101.9460\n",
            "Epoch 29/35\n",
            "170/170 [==============================] - 0s 3ms/step - loss: 10384.6494 - root_mean_squared_error: 101.9051\n",
            "Epoch 30/35\n",
            "170/170 [==============================] - 0s 3ms/step - loss: 10377.3711 - root_mean_squared_error: 101.8694\n",
            "Epoch 31/35\n",
            "170/170 [==============================] - 0s 3ms/step - loss: 10369.4375 - root_mean_squared_error: 101.8304\n",
            "Epoch 32/35\n",
            "170/170 [==============================] - 0s 3ms/step - loss: 10362.0244 - root_mean_squared_error: 101.7940\n",
            "Epoch 33/35\n",
            "170/170 [==============================] - 0s 3ms/step - loss: 10354.8174 - root_mean_squared_error: 101.7586\n",
            "Epoch 34/35\n",
            "170/170 [==============================] - 0s 2ms/step - loss: 10347.9502 - root_mean_squared_error: 101.7249\n",
            "Epoch 35/35\n",
            "170/170 [==============================] - 0s 2ms/step - loss: 10341.4248 - root_mean_squared_error: 101.6928\n"
          ]
        },
        {
          "output_type": "display_data",
          "data": {
            "text/plain": [
              "<Figure size 432x288 with 1 Axes>"
            ],
            "image/png": "[encoded data removed]"
          },
          "metadata": {
            "needs_background": "light"
          }
        },
        {
          "output_type": "stream",
          "name": "stdout",
          "text": [
            "\n",
            ": Evaluate the new model against the test set:\n"
          ]
        },
        {
          "output_type": "stream",
          "name": "stderr",
          "text": [
            "WARNING:tensorflow:Layers in a Sequential model should only have a single input tensor. Received: inputs={'longitude': <tf.Tensor 'IteratorGetNext:3' shape=(100,) dtype=float32>, 'latitude': <tf.Tensor 'IteratorGetNext:2' shape=(100,) dtype=float32>, 'housing_median_age': <tf.Tensor 'IteratorGetNext:1' shape=(100,) dtype=float32>, 'total_rooms': <tf.Tensor 'IteratorGetNext:7' shape=(100,) dtype=float32>, 'total_bedrooms': <tf.Tensor 'IteratorGetNext:6' shape=(100,) dtype=float32>, 'population': <tf.Tensor 'IteratorGetNext:5' shape=(100,) dtype=float32>, 'households': <tf.Tensor 'IteratorGetNext:0' shape=(100,) dtype=float32>, 'median_income': <tf.Tensor 'IteratorGetNext:4' shape=(100,) dtype=float32>}. Consider rewriting this model with the Functional API.\n"
          ]
        },
        {
          "output_type": "stream",
          "name": "stdout",
          "text": [
            "30/30 [==============================] - 0s 2ms/step - loss: 10200.1504 - root_mean_squared_error: 100.9958\n"
          ]
        },
        {
          "output_type": "execute_result",
          "data": {
            "text/plain": [
              "[10200.150390625, 100.99579620361328]"
            ]
          },
          "metadata": {},
          "execution_count": 15
        }
      ]
    },
    {
      "cell_type": "markdown",
      "metadata": {
        "id": "Wb-bIKsN5M48"
      },
      "source": [
        "## Task 2: Did buckets outperform floating-point representations?\n",
        "\n",
        "Compare the model's `root_mean_squared_error` values for the two representations (floating-point vs. buckets)?  Which model produced lower losses? "
      ]
    },
    {
      "cell_type": "markdown",
      "source": [
        "Bucket is better than floating-point."
      ],
      "metadata": {
        "id": "9vFaHAhe2B9g"
      }
    },
    {
      "cell_type": "code",
      "metadata": {
        "id": "6sUlX1335UCb"
      },
      "source": [
        "#@title Double-click for an answer to Task 2.\n",
        "\n",
        "# Bucket representation outperformed \n",
        "# floating-point representations.  \n",
        "# However, you can still do far better."
      ],
      "execution_count": 16,
      "outputs": []
    },
    {
      "cell_type": "markdown",
      "metadata": {
        "id": "ab6-bhUvxbTL"
      },
      "source": [
        "## Task 3: What is a better way to represent location?\n",
        "\n",
        "Buckets are a big improvement over floating-point values. Can you identify an even better way to identify location with `latitude` and `longitude`?"
      ]
    },
    {
      "cell_type": "markdown",
      "source": [
        "10 cells of latitude and 10 cells of longitude. So that we can create a grid that has 100 cells."
      ],
      "metadata": {
        "id": "S50zAIxh2iyr"
      }
    },
    {
      "cell_type": "code",
      "metadata": {
        "id": "5no5X0OFCwf7"
      },
      "source": [
        "#@title Double-click to view an answer to Task 3.\n",
        "\n",
        "# Representing location as a feature cross should \n",
        "# produce better results.\n",
        "\n",
        "# In Task 2, you represented latitude in \n",
        "# one-dimensional buckets and longitude in \n",
        "# another series of one-dimensional buckets. \n",
        "# Real-world locations, however, exist in \n",
        "# two dimension. Therefore, you should\n",
        "# represent location as a two-dimensional feature\n",
        "# cross. That is, you'll cross the 10 or so latitude \n",
        "# buckets with the 10 or so longitude buckets to \n",
        "# create a grid of 100 cells. \n",
        "\n",
        "# The model will learn separate weights for each \n",
        "# of the cells."
      ],
      "execution_count": 17,
      "outputs": []
    },
    {
      "cell_type": "markdown",
      "metadata": {
        "id": "T1ulCDiyGB6g"
      },
      "source": [
        "## Represent location as a feature cross\n",
        "\n",
        "The following code cell represents location as a feature cross. That is, the following code cell first creates buckets and then calls `tf.feature_column.crossed_column` to cross the buckets.\n",
        "\n"
      ]
    },
    {
      "cell_type": "code",
      "metadata": {
        "id": "HunsuEzqn21s",
        "cellView": "both"
      },
      "source": [
        "resolution_in_degrees = 0.5 \n",
        "\n",
        "# Create a new empty list that will eventually hold the generated feature column.\n",
        "feature_columns = []\n",
        "\n",
        "# Create a bucket feature column for latitude.\n",
        "latitude_as_a_numeric_column = tf.feature_column.numeric_column(\"latitude\")\n",
        "latitude_boundaries = list(np.arange(int(min(train_df['latitude'])), int(max(train_df['latitude'])), resolution_in_degrees))\n",
        "latitude = tf.feature_column.bucketized_column(latitude_as_a_numeric_column, latitude_boundaries)\n",
        "\n",
        "# Create a bucket feature column for longitude.\n",
        "longitude_as_a_numeric_column = tf.feature_column.numeric_column(\"longitude\")\n",
        "longitude_boundaries = list(np.arange(int(min(train_df['longitude'])), int(max(train_df['longitude'])), resolution_in_degrees))\n",
        "longitude = tf.feature_column.bucketized_column(longitude_as_a_numeric_column, longitude_boundaries)\n",
        "\n",
        "# Create a feature cross of latitude and longitude.\n",
        "latitude_x_longitude = tf.feature_column.crossed_column([latitude, longitude], hash_bucket_size=100)\n",
        "crossed_feature = tf.feature_column.indicator_column(latitude_x_longitude)\n",
        "feature_columns.append(crossed_feature)\n",
        "\n",
        "# Convert the list of feature columns into a layer that will later be fed into\n",
        "# the model. \n",
        "feature_cross_feature_layer = layers.DenseFeatures(feature_columns)"
      ],
      "execution_count": 29,
      "outputs": []
    },
    {
      "cell_type": "markdown",
      "metadata": {
        "id": "akRgNnnH3VXJ"
      },
      "source": [
        "Invoke the following code cell to test your solution for Task 3. Please ignore the warning messages."
      ]
    },
    {
      "cell_type": "code",
      "metadata": {
        "id": "qn2PRDBEr5ni",
        "colab": {
          "base_uri": "https://localhost:8080/",
          "height": 1000
        },
        "outputId": "721dbb6d-3aef-431f-f1fa-129ef529b74a"
      },
      "source": [
        "# The following variables are the hyperparameters.\n",
        "learning_rate = 0.04\n",
        "epochs = 35\n",
        "\n",
        "# Build the model, this time passing in the feature_cross_feature_layer: \n",
        "my_model = create_model(learning_rate, feature_cross_feature_layer)\n",
        "\n",
        "# Train the model on the training set.\n",
        "epochs, rmse = train_model(my_model, train_df, epochs, batch_size, label_name)\n",
        "\n",
        "plot_the_loss_curve(epochs, rmse)\n",
        "\n",
        "print(\"\\n: Evaluate the new model against the test set:\")\n",
        "my_model.evaluate(x=test_features, y=test_label, batch_size=batch_size)"
      ],
      "execution_count": 30,
      "outputs": [
        {
          "output_type": "stream",
          "name": "stdout",
          "text": [
            "Epoch 1/35\n"
          ]
        },
        {
          "output_type": "stream",
          "name": "stderr",
          "text": [
            "/usr/local/lib/python3.7/dist-packages/keras/optimizers/optimizer_v2/rmsprop.py:135: UserWarning: The `lr` argument is deprecated, use `learning_rate` instead.\n",
            "  super(RMSprop, self).__init__(name, **kwargs)\n",
            "WARNING:tensorflow:Layers in a Sequential model should only have a single input tensor. Received: inputs={'longitude': <tf.Tensor 'IteratorGetNext:3' shape=(100,) dtype=float32>, 'latitude': <tf.Tensor 'IteratorGetNext:2' shape=(100,) dtype=float32>, 'housing_median_age': <tf.Tensor 'IteratorGetNext:1' shape=(100,) dtype=float32>, 'total_rooms': <tf.Tensor 'IteratorGetNext:7' shape=(100,) dtype=float32>, 'total_bedrooms': <tf.Tensor 'IteratorGetNext:6' shape=(100,) dtype=float32>, 'population': <tf.Tensor 'IteratorGetNext:5' shape=(100,) dtype=float32>, 'households': <tf.Tensor 'IteratorGetNext:0' shape=(100,) dtype=float32>, 'median_income': <tf.Tensor 'IteratorGetNext:4' shape=(100,) dtype=float32>}. Consider rewriting this model with the Functional API.\n",
            "WARNING:tensorflow:Layers in a Sequential model should only have a single input tensor. Received: inputs={'longitude': <tf.Tensor 'IteratorGetNext:3' shape=(100,) dtype=float32>, 'latitude': <tf.Tensor 'IteratorGetNext:2' shape=(100,) dtype=float32>, 'housing_median_age': <tf.Tensor 'IteratorGetNext:1' shape=(100,) dtype=float32>, 'total_rooms': <tf.Tensor 'IteratorGetNext:7' shape=(100,) dtype=float32>, 'total_bedrooms': <tf.Tensor 'IteratorGetNext:6' shape=(100,) dtype=float32>, 'population': <tf.Tensor 'IteratorGetNext:5' shape=(100,) dtype=float32>, 'households': <tf.Tensor 'IteratorGetNext:0' shape=(100,) dtype=float32>, 'median_income': <tf.Tensor 'IteratorGetNext:4' shape=(100,) dtype=float32>}. Consider rewriting this model with the Functional API.\n"
          ]
        },
        {
          "output_type": "stream",
          "name": "stdout",
          "text": [
            "170/170 [==============================] - 1s 2ms/step - loss: 53620.0000 - root_mean_squared_error: 231.5599\n",
            "Epoch 2/35\n",
            "170/170 [==============================] - 0s 2ms/step - loss: 48743.5078 - root_mean_squared_error: 220.7793\n",
            "Epoch 3/35\n",
            "170/170 [==============================] - 0s 2ms/step - loss: 44181.8555 - root_mean_squared_error: 210.1948\n",
            "Epoch 4/35\n",
            "170/170 [==============================] - 0s 2ms/step - loss: 39934.6992 - root_mean_squared_error: 199.8367\n",
            "Epoch 5/35\n",
            "170/170 [==============================] - 0s 2ms/step - loss: 36013.6914 - root_mean_squared_error: 189.7727\n",
            "Epoch 6/35\n",
            "170/170 [==============================] - 0s 2ms/step - loss: 32365.8438 - root_mean_squared_error: 179.9051\n",
            "Epoch 7/35\n",
            "170/170 [==============================] - 0s 2ms/step - loss: 29046.8398 - root_mean_squared_error: 170.4313\n",
            "Epoch 8/35\n",
            "170/170 [==============================] - 0s 2ms/step - loss: 26031.9316 - root_mean_squared_error: 161.3441\n",
            "Epoch 9/35\n",
            "170/170 [==============================] - 0s 2ms/step - loss: 23325.3730 - root_mean_squared_error: 152.7265\n",
            "Epoch 10/35\n",
            "170/170 [==============================] - 0s 2ms/step - loss: 20895.1035 - root_mean_squared_error: 144.5514\n",
            "Epoch 11/35\n",
            "170/170 [==============================] - 0s 2ms/step - loss: 18760.9531 - root_mean_squared_error: 136.9706\n",
            "Epoch 12/35\n",
            "170/170 [==============================] - 0s 2ms/step - loss: 16878.4043 - root_mean_squared_error: 129.9169\n",
            "Epoch 13/35\n",
            "170/170 [==============================] - 0s 2ms/step - loss: 15261.4268 - root_mean_squared_error: 123.5371\n",
            "Epoch 14/35\n",
            "170/170 [==============================] - 0s 2ms/step - loss: 13888.5811 - root_mean_squared_error: 117.8498\n",
            "Epoch 15/35\n",
            "170/170 [==============================] - 0s 2ms/step - loss: 12770.2461 - root_mean_squared_error: 113.0055\n",
            "Epoch 16/35\n",
            "170/170 [==============================] - 0s 2ms/step - loss: 11853.8506 - root_mean_squared_error: 108.8754\n",
            "Epoch 17/35\n",
            "170/170 [==============================] - 0s 2ms/step - loss: 11143.6602 - root_mean_squared_error: 105.5635\n",
            "Epoch 18/35\n",
            "170/170 [==============================] - 0s 2ms/step - loss: 10629.2598 - root_mean_squared_error: 103.0983\n",
            "Epoch 19/35\n",
            "170/170 [==============================] - 0s 2ms/step - loss: 10255.7090 - root_mean_squared_error: 101.2705\n",
            "Epoch 20/35\n",
            "170/170 [==============================] - 0s 2ms/step - loss: 10000.5264 - root_mean_squared_error: 100.0026\n",
            "Epoch 21/35\n",
            "170/170 [==============================] - 0s 2ms/step - loss: 9826.1064 - root_mean_squared_error: 99.1267\n",
            "Epoch 22/35\n",
            "170/170 [==============================] - 0s 2ms/step - loss: 9689.5645 - root_mean_squared_error: 98.4356\n",
            "Epoch 23/35\n",
            "170/170 [==============================] - 0s 2ms/step - loss: 9575.2373 - root_mean_squared_error: 97.8531\n",
            "Epoch 24/35\n",
            "170/170 [==============================] - 0s 2ms/step - loss: 9477.1113 - root_mean_squared_error: 97.3505\n",
            "Epoch 25/35\n",
            "170/170 [==============================] - 0s 2ms/step - loss: 9392.4238 - root_mean_squared_error: 96.9145\n",
            "Epoch 26/35\n",
            "170/170 [==============================] - 0s 2ms/step - loss: 9320.6240 - root_mean_squared_error: 96.5434\n",
            "Epoch 27/35\n",
            "170/170 [==============================] - 0s 2ms/step - loss: 9258.5166 - root_mean_squared_error: 96.2212\n",
            "Epoch 28/35\n",
            "170/170 [==============================] - 0s 2ms/step - loss: 9202.0283 - root_mean_squared_error: 95.9272\n",
            "Epoch 29/35\n",
            "170/170 [==============================] - 0s 2ms/step - loss: 9150.7402 - root_mean_squared_error: 95.6595\n",
            "Epoch 30/35\n",
            "170/170 [==============================] - 1s 3ms/step - loss: 9105.4248 - root_mean_squared_error: 95.4223\n",
            "Epoch 31/35\n",
            "170/170 [==============================] - 1s 4ms/step - loss: 9065.3594 - root_mean_squared_error: 95.2122\n",
            "Epoch 32/35\n",
            "170/170 [==============================] - 1s 4ms/step - loss: 9029.8496 - root_mean_squared_error: 95.0255\n",
            "Epoch 33/35\n",
            "170/170 [==============================] - 1s 3ms/step - loss: 8997.6133 - root_mean_squared_error: 94.8558\n",
            "Epoch 34/35\n",
            "170/170 [==============================] - 1s 3ms/step - loss: 8968.0029 - root_mean_squared_error: 94.6995\n",
            "Epoch 35/35\n",
            "170/170 [==============================] - 1s 4ms/step - loss: 8942.4150 - root_mean_squared_error: 94.5643\n"
          ]
        },
        {
          "output_type": "display_data",
          "data": {
            "text/plain": [
              "<Figure size 432x288 with 1 Axes>"
            ],
            "image/png": "[encoded data removed]"
          },
          "metadata": {
            "needs_background": "light"
          }
        },
        {
          "output_type": "stream",
          "name": "stderr",
          "text": [
            "WARNING:tensorflow:Layers in a Sequential model should only have a single input tensor. Received: inputs={'longitude': <tf.Tensor 'IteratorGetNext:3' shape=(100,) dtype=float32>, 'latitude': <tf.Tensor 'IteratorGetNext:2' shape=(100,) dtype=float32>, 'housing_median_age': <tf.Tensor 'IteratorGetNext:1' shape=(100,) dtype=float32>, 'total_rooms': <tf.Tensor 'IteratorGetNext:7' shape=(100,) dtype=float32>, 'total_bedrooms': <tf.Tensor 'IteratorGetNext:6' shape=(100,) dtype=float32>, 'population': <tf.Tensor 'IteratorGetNext:5' shape=(100,) dtype=float32>, 'households': <tf.Tensor 'IteratorGetNext:0' shape=(100,) dtype=float32>, 'median_income': <tf.Tensor 'IteratorGetNext:4' shape=(100,) dtype=float32>}. Consider rewriting this model with the Functional API.\n"
          ]
        },
        {
          "output_type": "stream",
          "name": "stdout",
          "text": [
            "\n",
            ": Evaluate the new model against the test set:\n",
            "30/30 [==============================] - 0s 2ms/step - loss: 9012.0049 - root_mean_squared_error: 94.9316\n"
          ]
        },
        {
          "output_type": "execute_result",
          "data": {
            "text/plain": [
              "[9012.0048828125, 94.93157958984375]"
            ]
          },
          "metadata": {},
          "execution_count": 30
        }
      ]
    },
    {
      "cell_type": "markdown",
      "metadata": {
        "id": "bCT-l1GaWNQE"
      },
      "source": [
        "## Task 4: Did the feature cross outperform buckets?\n",
        "\n",
        "Compare the model's `root_mean_squared_error` values for the two representations (buckets vs. feature cross)?  Which model produced\n",
        "lower losses? "
      ]
    },
    {
      "cell_type": "markdown",
      "source": [
        "feature cross produced a lower losses."
      ],
      "metadata": {
        "id": "NDBdsm4Z5Jan"
      }
    },
    {
      "cell_type": "code",
      "metadata": {
        "id": "HUzdWDcs5rCi"
      },
      "source": [
        "#@title Double-click for an answer to this question.\n",
        "\n",
        "# Yes, representing these features as a feature \n",
        "# cross produced much lower loss values than \n",
        "# representing these features as buckets"
      ],
      "execution_count": 21,
      "outputs": []
    },
    {
      "cell_type": "markdown",
      "metadata": {
        "id": "J9Iw3ljfXqSQ"
      },
      "source": [
        "## Task 5: Adjust the resolution of the feature cross\n",
        "\n",
        "Return to the code cell in the \"Represent location as a feature cross\" section. Notice that `resolution_in_degrees` is set to 1.0. Therefore, each cell represents an area of 1.0 degree of latitude by 1.0 degree of longitude, which corresponds to a cell of 110 km by 90 km.  This resolution defines a rather large neighborhood. \n",
        "\n",
        "Experiment with `resolution_in_degrees` to answer the following questions:\n",
        "\n",
        "  1. What value of `resolution_in_degrees` produces the best results (lowest loss value)?\n",
        "  2. Why does loss increase when the value of `resolution_in_degrees` drops below a certain value?\n",
        "\n",
        "Finally, answer the following question:\n",
        "\n",
        "  3. What feature (that does not exist in the California Housing Dataset) would\n",
        "     be a better proxy for location than latitude X longitude."
      ]
    },
    {
      "cell_type": "markdown",
      "source": [
        "1. around 0.5 to 0.4 degree\n",
        "2. if the resolutino in degrees is below 0.4 the loss increases, since the dataset does not has enough examples.\n",
        "3. postal code would be a better feature than latitude X longitude\n",
        " "
      ],
      "metadata": {
        "id": "PU3-Gp8N5bjW"
      }
    },
    {
      "cell_type": "code",
      "metadata": {
        "id": "71WWwlhx4h0X"
      },
      "source": [
        "#@title Double-click for possible answers to Task 5.\n",
        "\n",
        "#1. A resolution of ~0.4 degree provides the best \n",
        "#   results.\n",
        "\n",
        "#2. Below ~0.4 degree, loss increases because the \n",
        "#   dataset does not contain enough examples in \n",
        "#   each cell to accurately predict prices for \n",
        "#   those cells.\n",
        "\n",
        "#3. Postal code would be a far better feature \n",
        "#   than latitude X longitude, assuming that \n",
        "#   the dataset contained sufficient examples \n",
        "#   in each postal code."
      ],
      "execution_count": 31,
      "outputs": []
    }
  ]
}